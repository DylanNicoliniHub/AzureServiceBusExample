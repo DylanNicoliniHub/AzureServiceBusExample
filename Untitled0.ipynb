{
  "nbformat": 4,
  "nbformat_minor": 0,
  "metadata": {
    "colab": {
      "provenance": [],
      "authorship_tag": "ABX9TyOMImC/6gTK/ZFGOF7xPFd9",
      "include_colab_link": true
    },
    "kernelspec": {
      "name": "python3",
      "display_name": "Python 3"
    },
    "language_info": {
      "name": "python"
    }
  },
  "cells": [
    {
      "cell_type": "markdown",
      "metadata": {
        "id": "view-in-github",
        "colab_type": "text"
      },
      "source": [
        "<a href=\"https://colab.research.google.com/github/DylanNicolini/AzureServiceBusExample/blob/master/Untitled0.ipynb\" target=\"_parent\"><img src=\"https://colab.research.google.com/assets/colab-badge.svg\" alt=\"Open In Colab\"/></a>"
      ]
    },
    {
      "cell_type": "code",
      "execution_count": 27,
      "metadata": {
        "colab": {
          "base_uri": "https://localhost:8080/",
          "height": 35
        },
        "id": "AbfUsUKHCZH9",
        "outputId": "aa4e92d9-5dee-4226-b8a9-000be30f5240"
      },
      "outputs": [
        {
          "output_type": "execute_result",
          "data": {
            "text/plain": [
              "'a'"
            ],
            "application/vnd.google.colaboratory.intrinsic+json": {
              "type": "string"
            }
          },
          "metadata": {},
          "execution_count": 27
        }
      ],
      "source": [
        "# In class samples\n",
        "# 1/30/2023\n",
        "\n",
        "\n",
        "S = \"Spam\"\n",
        "\n",
        "len(S)\n",
        "\n",
        "S[0]\n",
        "\n",
        "S[1]\n",
        "\n",
        "S[len(S) - 1]\n",
        "\n",
        "S[-1]\n",
        "\n",
        "S[-2]"
      ]
    },
    {
      "cell_type": "code",
      "source": [
        "S[1:3]"
      ],
      "metadata": {
        "colab": {
          "base_uri": "https://localhost:8080/",
          "height": 35
        },
        "id": "vzOlj_L5DIsm",
        "outputId": "7485c404-b882-43e4-fb5e-4216a77d2278"
      },
      "execution_count": 10,
      "outputs": [
        {
          "output_type": "execute_result",
          "data": {
            "text/plain": [
              "'pa'"
            ],
            "application/vnd.google.colaboratory.intrinsic+json": {
              "type": "string"
            }
          },
          "metadata": {},
          "execution_count": 10
        }
      ]
    },
    {
      "cell_type": "code",
      "source": [
        "# Everything but the last \n",
        "S[:-1]"
      ],
      "metadata": {
        "colab": {
          "base_uri": "https://localhost:8080/",
          "height": 35
        },
        "id": "CqT251oVDkHU",
        "outputId": "79f174c4-dbc3-4c3a-e1b5-aa622108985d"
      },
      "execution_count": 12,
      "outputs": [
        {
          "output_type": "execute_result",
          "data": {
            "text/plain": [
              "'spa'"
            ],
            "application/vnd.google.colaboratory.intrinsic+json": {
              "type": "string"
            }
          },
          "metadata": {},
          "execution_count": 12
        }
      ]
    },
    {
      "cell_type": "code",
      "source": [
        "# Concatenation\n",
        "S + 'xyz'\n",
        "\n",
        "S*8"
      ],
      "metadata": {
        "colab": {
          "base_uri": "https://localhost:8080/",
          "height": 35
        },
        "id": "nIcKxzHwD6xA",
        "outputId": "6d5ac8ff-451a-43de-e0d1-3a01d0e1cf4b"
      },
      "execution_count": 15,
      "outputs": [
        {
          "output_type": "execute_result",
          "data": {
            "text/plain": [
              "'spamspamspamspamspamspamspamspam'"
            ],
            "application/vnd.google.colaboratory.intrinsic+json": {
              "type": "string"
            }
          },
          "metadata": {},
          "execution_count": 15
        }
      ]
    },
    {
      "cell_type": "code",
      "source": [
        "S.find('am')\n"
      ],
      "metadata": {
        "colab": {
          "base_uri": "https://localhost:8080/"
        },
        "id": "NUsti80jEVRt",
        "outputId": "68247a7c-baeb-4f9c-9ca9-dd9195f8ddc2"
      },
      "execution_count": 22,
      "outputs": [
        {
          "output_type": "execute_result",
          "data": {
            "text/plain": [
              "2"
            ]
          },
          "metadata": {},
          "execution_count": 22
        }
      ]
    },
    {
      "cell_type": "code",
      "source": [
        "S.replace('pa', 'XYZ')"
      ],
      "metadata": {
        "colab": {
          "base_uri": "https://localhost:8080/",
          "height": 35
        },
        "id": "v1g2WMObFXF4",
        "outputId": "90428e0e-bf3e-498b-a893-c9c26c60a71c"
      },
      "execution_count": 28,
      "outputs": [
        {
          "output_type": "execute_result",
          "data": {
            "text/plain": [
              "'SXYZm'"
            ],
            "application/vnd.google.colaboratory.intrinsic+json": {
              "type": "string"
            }
          },
          "metadata": {},
          "execution_count": 28
        }
      ]
    },
    {
      "cell_type": "code",
      "source": [
        "S"
      ],
      "metadata": {
        "colab": {
          "base_uri": "https://localhost:8080/",
          "height": 35
        },
        "id": "whDYqq8YFAhE",
        "outputId": "29f5454f-5dac-4f7c-f53e-405fce9923cb"
      },
      "execution_count": 29,
      "outputs": [
        {
          "output_type": "execute_result",
          "data": {
            "text/plain": [
              "'Spam'"
            ],
            "application/vnd.google.colaboratory.intrinsic+json": {
              "type": "string"
            }
          },
          "metadata": {},
          "execution_count": 29
        }
      ]
    },
    {
      "cell_type": "code",
      "source": [
        "# List all functions available for variable\n",
        "dir(S)"
      ],
      "metadata": {
        "id": "xPFxKzLRF8UG"
      },
      "execution_count": null,
      "outputs": []
    },
    {
      "cell_type": "code",
      "source": [
        "# List and List manipulation\n",
        "L = [123, \"spam\", 1.23]\n",
        "\n",
        "# Get length of list\n",
        "len(L)\n",
        "\n",
        "# Index of List\n",
        "L[0]\n",
        "\n",
        "# Concatenate List / Add Items to list\n",
        "L + [4, 5, 6]\n",
        "\n",
        "L\n",
        "\n",
        "# Repeat items of L\n"
      ],
      "metadata": {
        "colab": {
          "base_uri": "https://localhost:8080/"
        },
        "id": "4ty5AzJlGLm8",
        "outputId": "7d372880-9fdf-4fdf-d922-27ae66b4b828"
      },
      "execution_count": 45,
      "outputs": [
        {
          "output_type": "execute_result",
          "data": {
            "text/plain": [
              "[123, 'spam', 1.23]"
            ]
          },
          "metadata": {},
          "execution_count": 45
        }
      ]
    },
    {
      "cell_type": "code",
      "source": [
        "# delete item from original list\n",
        "L.pop(2)\n",
        "L"
      ],
      "metadata": {
        "colab": {
          "base_uri": "https://localhost:8080/"
        },
        "id": "lM9gItffHPx3",
        "outputId": "aa7244bd-9b2b-44c7-87a0-6d59e0e076c6"
      },
      "execution_count": 46,
      "outputs": [
        {
          "output_type": "execute_result",
          "data": {
            "text/plain": [
              "1.23"
            ]
          },
          "metadata": {},
          "execution_count": 46
        }
      ]
    },
    {
      "cell_type": "code",
      "source": [
        "L"
      ],
      "metadata": {
        "colab": {
          "base_uri": "https://localhost:8080/"
        },
        "id": "WeNnMn8IIK7p",
        "outputId": "4d54f223-3ed6-4e21-c2b1-22148aa2d3ef"
      },
      "execution_count": 49,
      "outputs": [
        {
          "output_type": "execute_result",
          "data": {
            "text/plain": [
              "[123, 'spam']"
            ]
          },
          "metadata": {},
          "execution_count": 49
        }
      ]
    },
    {
      "cell_type": "code",
      "source": [
        "H = ['bb', 'aa', 'cc']\n",
        "H.sort()\n",
        "H"
      ],
      "metadata": {
        "colab": {
          "base_uri": "https://localhost:8080/"
        },
        "id": "heh4RmgQIhs7",
        "outputId": "ca195c83-91ab-4589-ba01-f002ca3b37b9"
      },
      "execution_count": 52,
      "outputs": [
        {
          "output_type": "execute_result",
          "data": {
            "text/plain": [
              "['aa', 'bb', 'cc']"
            ]
          },
          "metadata": {},
          "execution_count": 52
        }
      ]
    },
    {
      "cell_type": "code",
      "source": [
        "H.sort(reverse = True)\n",
        "H"
      ],
      "metadata": {
        "colab": {
          "base_uri": "https://localhost:8080/"
        },
        "id": "ofZ6YV8kI8iJ",
        "outputId": "8956ab77-6ba5-4ca9-c525-c49304f43bd2"
      },
      "execution_count": 54,
      "outputs": [
        {
          "output_type": "execute_result",
          "data": {
            "text/plain": [
              "['cc', 'bb', 'aa']"
            ]
          },
          "metadata": {},
          "execution_count": 54
        }
      ]
    },
    {
      "cell_type": "code",
      "source": [
        "# Nesting\n",
        "# 3 * 3 Matrix\n",
        "H = [[1,2,3],\n",
        "     [4,5,6],\n",
        "     [7,8,9]]\n",
        "\n",
        "H"
      ],
      "metadata": {
        "colab": {
          "base_uri": "https://localhost:8080/"
        },
        "id": "XBmO58_pJKD8",
        "outputId": "387a7a1e-e421-415a-c8c9-4199da248ffb"
      },
      "execution_count": 56,
      "outputs": [
        {
          "output_type": "execute_result",
          "data": {
            "text/plain": [
              "[[1, 2, 3], [4, 5, 6], [7, 8, 9]]"
            ]
          },
          "metadata": {},
          "execution_count": 56
        }
      ]
    },
    {
      "cell_type": "code",
      "source": [
        "# Get the second value of this matrix\n",
        "H[0][1]\n",
        "\n",
        "H[1][2]"
      ],
      "metadata": {
        "colab": {
          "base_uri": "https://localhost:8080/"
        },
        "id": "5QWZ0rnqJ9QV",
        "outputId": "f1c251f5-929e-44f1-f14c-5097a0754307"
      },
      "execution_count": 62,
      "outputs": [
        {
          "output_type": "execute_result",
          "data": {
            "text/plain": [
              "6"
            ]
          },
          "metadata": {},
          "execution_count": 62
        }
      ]
    },
    {
      "cell_type": "code",
      "source": [],
      "metadata": {
        "id": "y5_oMxpBKn5p"
      },
      "execution_count": null,
      "outputs": []
    },
    {
      "cell_type": "markdown",
      "source": [
        "List Comprehensions\n",
        "\n",
        "\n",
        "---\n",
        "Best way to process nested list of matrix\n",
        "\n"
      ],
      "metadata": {
        "id": "8X9JKJJ2Kt1K"
      }
    },
    {
      "cell_type": "code",
      "source": [
        "M = [[1,2,3],\n",
        "     [4,5,6],\n",
        "     [7,8,9]]\n",
        "\n",
        "col2 = [row[1] for row in M ]\n",
        "col2\n",
        "\n",
        "col2_1 = [row[1] + 1 for row in M]\n",
        "col2_1\n"
      ],
      "metadata": {
        "colab": {
          "base_uri": "https://localhost:8080/"
        },
        "id": "6Z7fMsuyKvRK",
        "outputId": "f571f180-52dc-43b2-e85d-3ded9323a9e0"
      },
      "execution_count": 71,
      "outputs": [
        {
          "output_type": "execute_result",
          "data": {
            "text/plain": [
              "[3, 6, 9]"
            ]
          },
          "metadata": {},
          "execution_count": 71
        }
      ]
    },
    {
      "cell_type": "code",
      "source": [
        "# filter out odd value of column 2 of martix M\n",
        "# Get all even numbers = divisible by 2 without a remainder\n",
        "[row[1] for row in M if row[1] % 2 != 0]\n"
      ],
      "metadata": {
        "colab": {
          "base_uri": "https://localhost:8080/"
        },
        "id": "BXuhv3BuNAhQ",
        "outputId": "592f19ae-3592-4084-8217-5c05396c2cfa"
      },
      "execution_count": 74,
      "outputs": [
        {
          "output_type": "execute_result",
          "data": {
            "text/plain": [
              "[5]"
            ]
          },
          "metadata": {},
          "execution_count": 74
        }
      ]
    },
    {
      "cell_type": "markdown",
      "source": [
        "Data Type Dictionaries\n",
        "\n",
        "\n",
        "---\n",
        "\n",
        "\n"
      ],
      "metadata": {
        "id": "PjxeMel_Oeem"
      }
    },
    {
      "cell_type": "code",
      "source": [
        "print (col2_1)"
      ],
      "metadata": {
        "colab": {
          "base_uri": "https://localhost:8080/"
        },
        "id": "ymvp_xxoOhmi",
        "outputId": "d53efb87-fd07-4d59-846e-d6538cd1fe05"
      },
      "execution_count": 78,
      "outputs": [
        {
          "output_type": "stream",
          "name": "stdout",
          "text": [
            "[3, 6, 9]\n"
          ]
        }
      ]
    },
    {
      "cell_type": "code",
      "source": [
        "D = {'food': 'Spam', 'quantity': 4, 'color':'pink'}\n",
        "\n",
        "D['quantity'] + 1\n",
        "\n"
      ],
      "metadata": {
        "colab": {
          "base_uri": "https://localhost:8080/"
        },
        "id": "7yokbk1qRamh",
        "outputId": "02bb3934-fb7e-411e-c9cc-ace11e8d0e9d"
      },
      "execution_count": 82,
      "outputs": [
        {
          "output_type": "execute_result",
          "data": {
            "text/plain": [
              "5"
            ]
          },
          "metadata": {},
          "execution_count": 82
        }
      ]
    },
    {
      "cell_type": "markdown",
      "source": [
        "Data Type : Tuples\n",
        "\n",
        "\n",
        "---\n",
        "\n"
      ],
      "metadata": {
        "id": "U8W1MatCSMGY"
      }
    },
    {
      "cell_type": "code",
      "source": [
        "T = (1, 2, 3, 4)\n",
        "len(T)\n",
        "\n",
        "# get index of first item\n",
        "T[0]\n",
        "\n",
        "#change the first item to 2\n",
        "T[0] = 2"
      ],
      "metadata": {
        "colab": {
          "base_uri": "https://localhost:8080/"
        },
        "id": "HIYTe0S-SPrV",
        "outputId": "ddc3d23d-1721-4693-9e63-d8302f377570"
      },
      "execution_count": 85,
      "outputs": [
        {
          "output_type": "execute_result",
          "data": {
            "text/plain": [
              "1"
            ]
          },
          "metadata": {},
          "execution_count": 85
        }
      ]
    },
    {
      "cell_type": "markdown",
      "source": [
        "Data Type: Set\n",
        "\n",
        "\n",
        "---\n",
        "\n",
        "\n"
      ],
      "metadata": {
        "id": "PwmRDLznUPZG"
      }
    },
    {
      "cell_type": "code",
      "source": [],
      "metadata": {
        "id": "zU3sCMXWUSsC"
      },
      "execution_count": null,
      "outputs": []
    },
    {
      "cell_type": "code",
      "source": [],
      "metadata": {
        "id": "L_9Tt_U-SJ1X"
      },
      "execution_count": null,
      "outputs": []
    }
  ]
}