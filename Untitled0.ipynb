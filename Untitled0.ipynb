{
  "nbformat": 4,
  "nbformat_minor": 0,
  "metadata": {
    "colab": {
      "provenance": [],
      "authorship_tag": "ABX9TyOgyIDPpg+8l6ltd3AKmQl7",
      "include_colab_link": true
    },
    "kernelspec": {
      "name": "python3",
      "display_name": "Python 3"
    },
    "language_info": {
      "name": "python"
    }
  },
  "cells": [
    {
      "cell_type": "markdown",
      "metadata": {
        "id": "view-in-github",
        "colab_type": "text"
      },
      "source": [
        "<a href=\"https://colab.research.google.com/github/DylanNicolini/AzureServiceBusExample/blob/master/Untitled0.ipynb\" target=\"_parent\"><img src=\"https://colab.research.google.com/assets/colab-badge.svg\" alt=\"Open In Colab\"/></a>"
      ]
    },
    {
      "cell_type": "code",
      "execution_count": 27,
      "metadata": {
        "colab": {
          "base_uri": "https://localhost:8080/",
          "height": 35
        },
        "id": "AbfUsUKHCZH9",
        "outputId": "aa4e92d9-5dee-4226-b8a9-000be30f5240"
      },
      "outputs": [
        {
          "output_type": "execute_result",
          "data": {
            "text/plain": [
              "'a'"
            ],
            "application/vnd.google.colaboratory.intrinsic+json": {
              "type": "string"
            }
          },
          "metadata": {},
          "execution_count": 27
        }
      ],
      "source": [
        "# In class samples\n",
        "# 1/30/2023\n",
        "\n",
        "\n",
        "S = \"Spam\"\n",
        "\n",
        "len(S)\n",
        "\n",
        "S[0]\n",
        "\n",
        "S[1]\n",
        "\n",
        "S[len(S) - 1]\n",
        "\n",
        "S[-1]\n",
        "\n",
        "S[-2]"
      ]
    },
    {
      "cell_type": "code",
      "source": [
        "S[1:3]"
      ],
      "metadata": {
        "colab": {
          "base_uri": "https://localhost:8080/",
          "height": 35
        },
        "id": "vzOlj_L5DIsm",
        "outputId": "7485c404-b882-43e4-fb5e-4216a77d2278"
      },
      "execution_count": 10,
      "outputs": [
        {
          "output_type": "execute_result",
          "data": {
            "text/plain": [
              "'pa'"
            ],
            "application/vnd.google.colaboratory.intrinsic+json": {
              "type": "string"
            }
          },
          "metadata": {},
          "execution_count": 10
        }
      ]
    },
    {
      "cell_type": "code",
      "source": [
        "# Everything but the last \n",
        "S[:-1]"
      ],
      "metadata": {
        "colab": {
          "base_uri": "https://localhost:8080/",
          "height": 35
        },
        "id": "CqT251oVDkHU",
        "outputId": "79f174c4-dbc3-4c3a-e1b5-aa622108985d"
      },
      "execution_count": 12,
      "outputs": [
        {
          "output_type": "execute_result",
          "data": {
            "text/plain": [
              "'spa'"
            ],
            "application/vnd.google.colaboratory.intrinsic+json": {
              "type": "string"
            }
          },
          "metadata": {},
          "execution_count": 12
        }
      ]
    },
    {
      "cell_type": "code",
      "source": [
        "# Concatenation\n",
        "S + 'xyz'\n",
        "\n",
        "S*8"
      ],
      "metadata": {
        "colab": {
          "base_uri": "https://localhost:8080/",
          "height": 35
        },
        "id": "nIcKxzHwD6xA",
        "outputId": "6d5ac8ff-451a-43de-e0d1-3a01d0e1cf4b"
      },
      "execution_count": 15,
      "outputs": [
        {
          "output_type": "execute_result",
          "data": {
            "text/plain": [
              "'spamspamspamspamspamspamspamspam'"
            ],
            "application/vnd.google.colaboratory.intrinsic+json": {
              "type": "string"
            }
          },
          "metadata": {},
          "execution_count": 15
        }
      ]
    },
    {
      "cell_type": "code",
      "source": [
        "S.find('am')\n"
      ],
      "metadata": {
        "colab": {
          "base_uri": "https://localhost:8080/"
        },
        "id": "NUsti80jEVRt",
        "outputId": "68247a7c-baeb-4f9c-9ca9-dd9195f8ddc2"
      },
      "execution_count": 22,
      "outputs": [
        {
          "output_type": "execute_result",
          "data": {
            "text/plain": [
              "2"
            ]
          },
          "metadata": {},
          "execution_count": 22
        }
      ]
    },
    {
      "cell_type": "code",
      "source": [
        "S.replace('pa', 'XYZ')"
      ],
      "metadata": {
        "colab": {
          "base_uri": "https://localhost:8080/",
          "height": 35
        },
        "id": "v1g2WMObFXF4",
        "outputId": "90428e0e-bf3e-498b-a893-c9c26c60a71c"
      },
      "execution_count": 28,
      "outputs": [
        {
          "output_type": "execute_result",
          "data": {
            "text/plain": [
              "'SXYZm'"
            ],
            "application/vnd.google.colaboratory.intrinsic+json": {
              "type": "string"
            }
          },
          "metadata": {},
          "execution_count": 28
        }
      ]
    },
    {
      "cell_type": "code",
      "source": [
        "S"
      ],
      "metadata": {
        "colab": {
          "base_uri": "https://localhost:8080/",
          "height": 35
        },
        "id": "whDYqq8YFAhE",
        "outputId": "29f5454f-5dac-4f7c-f53e-405fce9923cb"
      },
      "execution_count": 29,
      "outputs": [
        {
          "output_type": "execute_result",
          "data": {
            "text/plain": [
              "'Spam'"
            ],
            "application/vnd.google.colaboratory.intrinsic+json": {
              "type": "string"
            }
          },
          "metadata": {},
          "execution_count": 29
        }
      ]
    },
    {
      "cell_type": "code",
      "source": [
        "# List all functions available for variable\n",
        "dir(S)"
      ],
      "metadata": {
        "id": "xPFxKzLRF8UG"
      },
      "execution_count": null,
      "outputs": []
    },
    {
      "cell_type": "code",
      "source": [
        "# List and List manipulation\n",
        "L = [123, \"spam\", 1.23]\n",
        "\n",
        "# Get length of list\n",
        "len(L)\n",
        "\n",
        "# Index of List\n",
        "L[0]\n",
        "\n",
        "# Concatenate List / Add Items to list\n",
        "L + [4, 5, 6]\n",
        "\n",
        "L\n",
        "\n",
        "# Repeat items of L\n"
      ],
      "metadata": {
        "colab": {
          "base_uri": "https://localhost:8080/"
        },
        "id": "4ty5AzJlGLm8",
        "outputId": "7d372880-9fdf-4fdf-d922-27ae66b4b828"
      },
      "execution_count": 45,
      "outputs": [
        {
          "output_type": "execute_result",
          "data": {
            "text/plain": [
              "[123, 'spam', 1.23]"
            ]
          },
          "metadata": {},
          "execution_count": 45
        }
      ]
    },
    {
      "cell_type": "code",
      "source": [
        "# delete item from original list\n",
        "L.pop(2)\n",
        "L"
      ],
      "metadata": {
        "colab": {
          "base_uri": "https://localhost:8080/"
        },
        "id": "lM9gItffHPx3",
        "outputId": "aa7244bd-9b2b-44c7-87a0-6d59e0e076c6"
      },
      "execution_count": 46,
      "outputs": [
        {
          "output_type": "execute_result",
          "data": {
            "text/plain": [
              "1.23"
            ]
          },
          "metadata": {},
          "execution_count": 46
        }
      ]
    },
    {
      "cell_type": "code",
      "source": [
        "L"
      ],
      "metadata": {
        "colab": {
          "base_uri": "https://localhost:8080/"
        },
        "id": "WeNnMn8IIK7p",
        "outputId": "4d54f223-3ed6-4e21-c2b1-22148aa2d3ef"
      },
      "execution_count": 49,
      "outputs": [
        {
          "output_type": "execute_result",
          "data": {
            "text/plain": [
              "[123, 'spam']"
            ]
          },
          "metadata": {},
          "execution_count": 49
        }
      ]
    }
  ]
}